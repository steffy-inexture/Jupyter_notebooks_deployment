{
 "cells": [
  {
   "cell_type": "markdown",
   "metadata": {},
   "source": [
    "# None"
   ]
  },
  {
   "cell_type": "markdown",
   "metadata": {},
   "source": [
    "This type has a single value. **There is a single object with this value.** This object is accessed through the built-in name None. It is used to signify the absence of a value in many situations, e.g., it is returned from **functions that don’t explicitly return anything.** **Its truth value is false.**"
   ]
  },
  {
   "cell_type": "markdown",
   "metadata": {},
   "source": [
    "# numbers.Number"
   ]
  },
  {
   "cell_type": "markdown",
   "metadata": {},
   "source": [
    "\n",
    "These are created by numeric literals and returned as results by arithmetic operators and arithmetic built-in functions. **Numeric objects are immutable**"
   ]
  },
  {
   "cell_type": "markdown",
   "metadata": {},
   "source": [
    "## numbers.Integral"
   ]
  },
  {
   "cell_type": "markdown",
   "metadata": {},
   "source": [
    "- These represent elements from the mathematical set of integers (positive and negative).\n",
    "\n",
    "- There are two types of integers:"
   ]
  },
  {
   "cell_type": "markdown",
   "metadata": {
    "heading_collapsed": true
   },
   "source": [
    "### Integers (int)"
   ]
  },
  {
   "cell_type": "markdown",
   "metadata": {
    "hidden": true
   },
   "source": [
    "- These represent numbers in an unlimited range, subject to available (virtual) memory only.\n",
    "- negative numbers are represented in a variant of 2’s complement which gives the illusion of an infinite string of sign bits extending to the left."
   ]
  },
  {
   "cell_type": "markdown",
   "metadata": {
    "heading_collapsed": true
   },
   "source": [
    "### Booleans (bool)"
   ]
  },
  {
   "cell_type": "markdown",
   "metadata": {
    "hidden": true
   },
   "source": [
    "- These represent the truth values False and True.\n",
    "- The Boolean type is a subtype of the integer type, and Boolean values **behave like the values 0 and 1, respectively.**\n",
    "- The two objects representing the values **False and True are the only Boolean objects.**\n",
    "- The Boolean type is a subtype of the integer type, and Boolean values **behave like the values 0 and 1.**\n",
    "- when converted to a string, **the strings \"False\" or \"True\" are returned**, respectively."
   ]
  },
  {
   "cell_type": "markdown",
   "metadata": {
    "heading_collapsed": true
   },
   "source": [
    "## numbers.Real"
   ]
  },
  {
   "cell_type": "markdown",
   "metadata": {
    "heading_collapsed": true,
    "hidden": true
   },
   "source": [
    "### float"
   ]
  },
  {
   "cell_type": "markdown",
   "metadata": {
    "hidden": true
   },
   "source": [
    "- These represent machine-level double precision floating point numbers."
   ]
  },
  {
   "cell_type": "markdown",
   "metadata": {
    "heading_collapsed": true
   },
   "source": [
    "## numbers.Complex "
   ]
  },
  {
   "cell_type": "markdown",
   "metadata": {
    "heading_collapsed": true,
    "hidden": true
   },
   "source": [
    "### Complex"
   ]
  },
  {
   "cell_type": "markdown",
   "metadata": {
    "hidden": true
   },
   "source": [
    "- These represent complex numbers as a pair of machine-level double precision floating point numbers\n",
    "- The real and imaginary parts of a complex number z can be retrieved through the **read-only attributes z.real and z.imag.**"
   ]
  },
  {
   "cell_type": "markdown",
   "metadata": {},
   "source": [
    "# Sequences"
   ]
  },
  {
   "cell_type": "markdown",
   "metadata": {},
   "source": [
    "    - These represent finite ordered sets indexed by non-negative numbers.\n",
    "- The built-in function **len()** returns the number of items of a sequence.\n",
    "- Sequences also support slicing: **a\\[i:j\\]** selects all items with index **k such that i <= k < j.**\n",
    "- Some sequences also support **“extended slicing”** with a third **“step”** parameter: **a\\[i:j:k\\]** selects all items of a with index x **where x = i + n*k, n >= 0 and i <= x < j.**"
   ]
  },
  {
   "cell_type": "markdown",
   "metadata": {},
   "source": [
    "## Immutable sequences"
   ]
  },
  {
   "cell_type": "markdown",
   "metadata": {},
   "source": [
    "- An object of an immutable sequence type **cannot change once it is created.**"
   ]
  },
  {
   "cell_type": "markdown",
   "metadata": {},
   "source": [
    "### Strings"
   ]
  },
  {
   "cell_type": "markdown",
   "metadata": {},
   "source": [
    "- A string is a sequence of values that **represent Unicode code points.**\n",
    "- Python **doesn’t have a char type;** instead, every code point in the string is **represented as a string object with length 1.**\n",
    "- The built-in function **ord() converts** a code point from its string form **to an integer in the range 0 - 10FFFF;**\n",
    "- **chr() converts** an integer in the range 0 - 10FFFF **to the corresponding length 1 string object.**\n",
    "- str.encode() can be used to convert a str to bytes using the given text encoding, and bytes.decode() can be used to achieve the opposite."
   ]
  },
  {
   "cell_type": "code",
   "execution_count": 13,
   "metadata": {},
   "outputs": [
    {
     "name": "stdout",
     "output_type": "stream",
     "text": [
      "139918831712576\n",
      "length of the sequence is: 18\n",
      "Character at 7th position is: s\n",
      "T\n",
      "h\n",
      "i\n",
      "s\n",
      " \n",
      "i\n",
      "s\n",
      " \n",
      "a\n",
      " \n",
      "s\n",
      "e\n",
      "q\n",
      "u\n",
      "e\n",
      "n\n",
      "c\n",
      "e\n",
      "139918583343504\n",
      "Yes\n"
     ]
    }
   ],
   "source": [
    "# let's see how string can be a sequence in python and not the traditional string.\n",
    "my_str = \"This is a sequence\"\n",
    "print(id(my_str))\n",
    "print(\"length of the sequence is: {}\".format(len(my_str)))\n",
    "print(\"Character at 7th position is: {}\".format(my_str[6]))\n",
    "for i in my_str:\n",
    "    print(i)\n",
    "    \n",
    "# How can we say that string is mutable?\n",
    "# my_str[2] = \"A\"  # try changing a character in any position of string\n",
    "\n",
    "# however, why this worked?\n",
    "my_str = \"Who said I can not change string once assigned?\"\n",
    "print(id(my_str))\n",
    "if \"said\" in my_str:\n",
    "    print(\"Yes\")"
   ]
  },
  {
   "cell_type": "code",
   "execution_count": 14,
   "metadata": {},
   "outputs": [
    {
     "name": "stdout",
     "output_type": "stream",
     "text": [
      "True\n",
      "139918936521200\n",
      "139918936521200\n"
     ]
    }
   ],
   "source": [
    "a = \"abcd\"\n",
    "\n",
    "b = \"c\"\n",
    "\n",
    "print(a[2] is b[0])\n",
    "\n",
    "# for char in a:\n",
    "#     print(id(char))\n",
    "    \n",
    "print(id(a[2]))\n",
    "\n",
    "print(id(b[0]))\n"
   ]
  },
  {
   "cell_type": "markdown",
   "metadata": {},
   "source": [
    "### Tuples"
   ]
  },
  {
   "cell_type": "markdown",
   "metadata": {},
   "source": [
    "- Tuples are simply a __immutable sequence of other python objects.__\n",
    "- Tuples of two or more items are formed by comma-separated lists of expressions."
   ]
  },
  {
   "cell_type": "code",
   "execution_count": 15,
   "metadata": {},
   "outputs": [
    {
     "name": "stdout",
     "output_type": "stream",
     "text": [
      "(1, 2, 3)\n",
      "(4, 5, 6)\n",
      "(1,)\n",
      "()\n",
      "()\n"
     ]
    }
   ],
   "source": [
    "# creating tuples\n",
    "a = 1, 2, 3\n",
    "print(a)\n",
    "b = (4, 5, 6)\n",
    "print(b)\n",
    "c = 1,\n",
    "print(c)\n",
    "d = ()\n",
    "print(d)\n",
    "e = tuple()\n",
    "print(e)"
   ]
  },
  {
   "cell_type": "code",
   "execution_count": 21,
   "metadata": {
    "scrolled": true
   },
   "outputs": [
    {
     "name": "stdout",
     "output_type": "stream",
     "text": [
      "c = a + b: (1, 2, 3, 4, 5, 6)\n",
      "d = a*4: (1, 2, 3, 1, 2, 3, 1, 2, 3, 1, 2, 3)\n",
      "len(a): 3\n",
      "I am there\n"
     ]
    }
   ],
   "source": [
    "# Operations on tuples\n",
    "a = (1, 2, 3)\n",
    "b = (4, 5, 6)\n",
    "c = a + b\n",
    "\n",
    "print(\"c = a + b: {}\".format(c))\n",
    "d = a*4\n",
    "print(\"d = a*4: {}\".format(d))\n",
    "length = len(a)\n",
    "print(\"len(a): {}\".format(length))\n",
    "if 3 in a:\n",
    "    print(\"I am there\")\n",
    "else:\n",
    "    print(\"Ooops! not found\")"
   ]
  },
  {
   "cell_type": "markdown",
   "metadata": {},
   "source": [
    "### Bytes"
   ]
  },
  {
   "cell_type": "markdown",
   "metadata": {},
   "source": [
    "- A bytes object is an immutable array"
   ]
  },
  {
   "cell_type": "markdown",
   "metadata": {
    "heading_collapsed": true
   },
   "source": [
    "## Mutable sequences"
   ]
  },
  {
   "cell_type": "markdown",
   "metadata": {
    "hidden": true
   },
   "source": [
    "- Mutable sequences **can be changed after they are created.**"
   ]
  },
  {
   "cell_type": "markdown",
   "metadata": {
    "heading_collapsed": true,
    "hidden": true
   },
   "source": [
    "### Lists"
   ]
  },
  {
   "cell_type": "markdown",
   "metadata": {
    "hidden": true
   },
   "source": [
    "- List is also a collection of other python objects but mutable unlike tuple.\n",
    "- Lists are formed by placing a comma-separated list of expressions in square brackets."
   ]
  },
  {
   "cell_type": "code",
   "execution_count": 23,
   "metadata": {
    "hidden": true
   },
   "outputs": [
    {
     "name": "stdout",
     "output_type": "stream",
     "text": [
      "[]\n",
      "[]\n",
      "[1, 'x', 3, '1', True, None]\n",
      "[1]\n"
     ]
    }
   ],
   "source": [
    "# creating list\n",
    "a = list()\n",
    "print(a)\n",
    "a = []\n",
    "print(a)\n",
    "a = [1, 'x', 3, '1', True, None]\n",
    "print(a)\n",
    "a = [1]\n",
    "print(a)"
   ]
  },
  {
   "cell_type": "code",
   "execution_count": 28,
   "metadata": {
    "hidden": true
   },
   "outputs": [
    {
     "name": "stdout",
     "output_type": "stream",
     "text": [
      "139918589074752\n",
      "139918589074752\n",
      "After appending 3 to list: \n",
      "[1, 2, 0, 2, 3]\n",
      "\n",
      "Extending list with method: \n",
      "[1, 2, 0, 2, 3, 'a', 'b', 'c']\n",
      "\n",
      "Extending list using + operator: \n",
      "[1, 2, 0, 2, 3, 'a', 'b', 'c', True, False]\n",
      "\n",
      "Inserting an element to the specified position of list: \n",
      "[1, 2, 0, 'first', 2, 3, 'a', 'b', 'c', True, False]\n",
      "\n",
      "Total given items in list: \n",
      "2\n",
      "\n",
      "Index of 0 is: \n",
      "0\n",
      "\n",
      "POP: \n",
      "False\n",
      "\n",
      "List after POP: \n",
      "[1, 2, 0, 'first', 2, 3, 'a', 'b', 'c', True]\n",
      "\n",
      "List after removing 2: \n",
      "[1, 0, 'first', 2, 3, 'a', 'b', 'c', True]\n",
      "\n",
      "listn after being reversed: \n",
      "[True, 'c', 'b', 'a', 3, 2, 'first', 0, 1]\n",
      "\n",
      "Sorted list: \n",
      "[0, False, 1, True, 2, 4, 10, 99, 10000]\n",
      "\n",
      "List after being cleared: \n",
      "[]\n",
      "\n"
     ]
    }
   ],
   "source": [
    "# operations on lists\n",
    "a = [1, 2, 0, 2]\n",
    "print(id(a))\n",
    "\n",
    "# adding an item to list\n",
    "a.append(3)\n",
    "\n",
    "print(id(a))\n",
    "print(\"After appending 3 to list: \\n{}\\n\".format(a))\n",
    "\n",
    "# extending list with another list\n",
    "b = ['a', 'b', 'c']\n",
    "a.extend(b)\n",
    "print(\"Extending list with method: \\n{}\\n\".format(a))\n",
    "c = [True, False]\n",
    "a = a + c\n",
    "print(\"Extending list using + operator: \\n{}\\n\".format(a))\n",
    "\n",
    "# inserting into list\n",
    "a.insert(3, 'first')\n",
    "print(\"Inserting an element to the specified position of list: \\n{}\\n\".format(a))\n",
    "\n",
    "# counting items in list\n",
    "print(\"Total given items in list: \\n{}\\n\".format(a.count(True)))\n",
    "\n",
    "# find first index of given element\n",
    "print(\"Index of 0 is: \\n{}\\n\".format(a.index(True)))\n",
    "\n",
    "# popping last element from list\n",
    "print(\"POP: \\n{}\\n\".format(a.pop()))\n",
    "print(\"List after POP: \\n{}\\n\".format(a))\n",
    "\n",
    "# remove first occurence of an element from list\n",
    "a.remove(2)\n",
    "print(\"List after removing 2: \\n{}\\n\".format(a))\n",
    "\n",
    "# reversing a list\n",
    "a.reverse()\n",
    "print(\"listn after being reversed: \\n{}\\n\".format(a))\n",
    "\n",
    "# sorting a list\n",
    "# a.sort()\n",
    "# print(\"Sorted list: \\n{}\\n\".format(a))\n",
    "\n",
    "a = [1, 4, 0, 99, 10, 10000, 2, True, False]\n",
    "a.sort()\n",
    "print(\"Sorted list: \\n{}\\n\".format(a))\n",
    "\n",
    "\n",
    "# clearing the list\n",
    "a.clear()\n",
    "print(\"List after being cleared: \\n{}\\n\".format(a))"
   ]
  },
  {
   "cell_type": "markdown",
   "metadata": {
    "heading_collapsed": true,
    "hidden": true
   },
   "source": [
    "### Byte Arrays"
   ]
  },
  {
   "cell_type": "markdown",
   "metadata": {
    "hidden": true
   },
   "source": [
    "- A bytearray object is a mutable array. They are created by the built-in bytearray() constructor."
   ]
  },
  {
   "cell_type": "markdown",
   "metadata": {},
   "source": [
    "# Set types"
   ]
  },
  {
   "cell_type": "markdown",
   "metadata": {},
   "source": [
    "- These represent **unordered**, finite sets of **unique**, **immutable** objects.\n",
    "- Can not be indexed.\n",
    "- However, they **can be iterated over**, and the built-in function **len()** returns the number of items in a set.\n",
    "- Common uses for sets are fast membership testing, **removing duplicates from a sequence**, and computing mathematical operations such as **intersection, union, difference, and symmetric difference.**"
   ]
  },
  {
   "cell_type": "markdown",
   "metadata": {},
   "source": [
    "**There are currently two intrinsic set types:**"
   ]
  },
  {
   "cell_type": "markdown",
   "metadata": {},
   "source": [
    "## Sets"
   ]
  },
  {
   "cell_type": "markdown",
   "metadata": {},
   "source": [
    "- These represent a **mutable** set.\n",
    "- They are created by the built-in **set() constructor** and can be **modified afterwards** by several methods, such as **add().**\n",
    "- Sets are unordered you can never know what will be the order of items."
   ]
  },
  {
   "cell_type": "code",
   "execution_count": 32,
   "metadata": {},
   "outputs": [
    {
     "name": "stdout",
     "output_type": "stream",
     "text": [
      "Type of a: \n",
      "<class 'set'>\n",
      "\n",
      "Contents of a: \n",
      "{1, 2, 3, 'a', '1'}\n",
      "\n",
      "1\n",
      "2\n",
      "3\n",
      "a\n",
      "1\n",
      "\n",
      "After adding an item: \n",
      "{1, 2, 3, 'added', 'a', '1'}\n",
      "\n",
      "After updating set: \n",
      "{False, 1, 2, 3, 4, 'added', 'a', '1'}\n",
      "\n",
      "After removing an item from set: \n",
      "{False, 1, 2, 3, 4, 'a', '1'}\n",
      "\n",
      "After discarding an item form set: \n",
      "{False, 1, 2, 3, 4, 'a', '1'}\n",
      "\n",
      "Set after being cleared: \n",
      "set()\n",
      "\n"
     ]
    },
    {
     "ename": "NameError",
     "evalue": "name 'a' is not defined",
     "output_type": "error",
     "traceback": [
      "\u001B[0;31m---------------------------------------------------------------------------\u001B[0m",
      "\u001B[0;31mNameError\u001B[0m                                 Traceback (most recent call last)",
      "\u001B[0;32m<ipython-input-32-d70b8bdcc56c>\u001B[0m in \u001B[0;36m<module>\u001B[0;34m\u001B[0m\n\u001B[1;32m     29\u001B[0m \u001B[0;31m# del keyword\u001B[0m\u001B[0;34m\u001B[0m\u001B[0;34m\u001B[0m\u001B[0;34m\u001B[0m\u001B[0m\n\u001B[1;32m     30\u001B[0m \u001B[0;32mdel\u001B[0m \u001B[0ma\u001B[0m  \u001B[0;31m# this will completely delete the object form memory\u001B[0m\u001B[0;34m\u001B[0m\u001B[0;34m\u001B[0m\u001B[0m\n\u001B[0;32m---> 31\u001B[0;31m \u001B[0mprint\u001B[0m\u001B[0;34m(\u001B[0m\u001B[0;34m\"Set after being deleted: \\n{}\\n\"\u001B[0m\u001B[0;34m.\u001B[0m\u001B[0mformat\u001B[0m\u001B[0;34m(\u001B[0m\u001B[0ma\u001B[0m\u001B[0;34m)\u001B[0m\u001B[0;34m)\u001B[0m\u001B[0;34m\u001B[0m\u001B[0;34m\u001B[0m\u001B[0m\n\u001B[0m",
      "\u001B[0;31mNameError\u001B[0m: name 'a' is not defined"
     ]
    }
   ],
   "source": [
    "# creating set\n",
    "a = set()\n",
    "print(\"Type of a: \\n{}\\n\".format(type(a)))\n",
    "a = {'a', 1, 2, 3, '1', 1, 2, 3, 'a'}\n",
    "print(\"Contents of a: \\n{}\\n\".format(a))\n",
    "for item in a:\n",
    "    print(item)\n",
    "\n",
    "# adding an item to set\n",
    "a.add(\"added\")\n",
    "print(\"\\nAfter adding an item: \\n{}\\n\".format(a))\n",
    "\n",
    "# updating set\n",
    "a.update([1, 4, False])\n",
    "print(\"After updating set: \\n{}\\n\".format(a))\n",
    "\n",
    "# remove an item from set\n",
    "a.remove('added')\n",
    "print(\"After removing an item from set: \\n{}\\n\".format(a))\n",
    "\n",
    "# discard an item from set\n",
    "a.discard(\"added\")\n",
    "print(\"After discarding an item form set: \\n{}\\n\".format(a))\n",
    "\n",
    "# clearing the set\n",
    "a.clear()\n",
    "print(\"Set after being cleared: \\n{}\\n\".format(a))\n",
    "\n",
    "# del keyword\n",
    "del a  # this will completely delete the object form memory\n",
    "print(\"Set after being deleted: \\n{}\\n\".format(a))"
   ]
  },
  {
   "cell_type": "markdown",
   "metadata": {},
   "source": [
    "## Frozen sets"
   ]
  },
  {
   "cell_type": "markdown",
   "metadata": {},
   "source": [
    "- These represent an **immutable set.**\n",
    "- They are created by the built-in **frozenset() constructor.**\n",
    "- it can be used again as an **element of another set, or as a dictionary key.**"
   ]
  },
  {
   "cell_type": "code",
   "execution_count": 103,
   "metadata": {},
   "outputs": [
    {
     "name": "stdout",
     "output_type": "stream",
     "text": [
      "frozenset({1, 2, 3, 4})\n"
     ]
    },
    {
     "ename": "AttributeError",
     "evalue": "'frozenset' object has no attribute 'add'",
     "output_type": "error",
     "traceback": [
      "\u001B[0;31m---------------------------------------------------------------------------\u001B[0m",
      "\u001B[0;31mAttributeError\u001B[0m                            Traceback (most recent call last)",
      "\u001B[0;32m<ipython-input-103-9925684697cc>\u001B[0m in \u001B[0;36m<module>\u001B[0;34m\u001B[0m\n\u001B[1;32m      1\u001B[0m \u001B[0ma\u001B[0m \u001B[0;34m=\u001B[0m \u001B[0mfrozenset\u001B[0m\u001B[0;34m(\u001B[0m\u001B[0;34m[\u001B[0m\u001B[0;36m1\u001B[0m\u001B[0;34m,\u001B[0m \u001B[0;36m2\u001B[0m\u001B[0;34m,\u001B[0m \u001B[0;36m3\u001B[0m\u001B[0;34m,\u001B[0m \u001B[0;36m4\u001B[0m\u001B[0;34m]\u001B[0m\u001B[0;34m)\u001B[0m\u001B[0;34m\u001B[0m\u001B[0;34m\u001B[0m\u001B[0m\n\u001B[1;32m      2\u001B[0m \u001B[0mprint\u001B[0m\u001B[0;34m(\u001B[0m\u001B[0ma\u001B[0m\u001B[0;34m)\u001B[0m\u001B[0;34m\u001B[0m\u001B[0;34m\u001B[0m\u001B[0m\n\u001B[0;32m----> 3\u001B[0;31m \u001B[0ma\u001B[0m\u001B[0;34m.\u001B[0m\u001B[0madd\u001B[0m\u001B[0;34m(\u001B[0m\u001B[0;36m2\u001B[0m\u001B[0;34m)\u001B[0m\u001B[0;34m\u001B[0m\u001B[0;34m\u001B[0m\u001B[0m\n\u001B[0m",
      "\u001B[0;31mAttributeError\u001B[0m: 'frozenset' object has no attribute 'add'"
     ]
    }
   ],
   "source": [
    "a = frozenset([1, 2, 3, 4])\n",
    "print(a)\n",
    "a.add(2)"
   ]
  },
  {
   "cell_type": "markdown",
   "metadata": {},
   "source": [
    "# Mappings"
   ]
  },
  {
   "cell_type": "markdown",
   "metadata": {},
   "source": [
    "## Dictionaries"
   ]
  },
  {
   "cell_type": "markdown",
   "metadata": {},
   "source": [
    "- These represent finite sets of objects indexed by nearly arbitrary values.\n",
    "- The key in a dictionary can not be mutable.\n",
    "- The reason being that the efficient implementation of dictionaries requires a **key’s hash value to remain constant.**\n",
    "- dictionary is mutable.\n",
    "\n",
    "**What is a hashable object?**\n",
    "- An object is hashable if it has a hash value which never changes during its lifetime (it needs a __hash__() method), and can be compared to other objects (it needs an __eq__() method). Hashable objects which compare equal must have the same hash value."
   ]
  },
  {
   "cell_type": "code",
   "execution_count": 37,
   "metadata": {},
   "outputs": [
    {
     "name": "stdout",
     "output_type": "stream",
     "text": [
      "a is: \n",
      "{}\n",
      "\n",
      "a is: \n",
      "<class 'dict'>\n",
      "\n",
      "a is: \n",
      "{0: 'something', 1: 'is', 2: 'not', 3: True, 'what?': 'maybe'}\n",
      "\n",
      "a is: \n",
      "{'one': 1, 'two': 2, 'three': 3}\n",
      "\n",
      "a is: \n",
      "{'one': 1, 'two': 2, 'three': 3}\n",
      "\n",
      "a is: \n",
      "{'one': 1, 'two': 2, 'three': 3}\n",
      "\n",
      "The keys in a are: \n",
      "['one', 'two', 'three']\n",
      "\n",
      "The keys in a are: \n",
      "dict_keys(['one', 'two', 'three'])\n",
      "\n",
      "Item with key 'one' is: \n",
      "1\n",
      "\n",
      "Value with key 'one' is: \n",
      "None\n",
      "\n",
      "Value with key 'on' is: \n",
      "Key not present\n",
      "\n",
      "dict after being changed: \n",
      "{'one': 'one', 'two': 2, 'three': 3}\n",
      "\n",
      "\n",
      "yes\n",
      "\n",
      "Popped value from dict is: \n",
      "2\n",
      "\n",
      "Dict after popping value is: \n",
      "{'one': 'one', 'three': 3}\n",
      "\n",
      "Popped last item is: \n",
      "('three', 3)\n",
      "\n"
     ]
    }
   ],
   "source": [
    "# creating a dict\n",
    "a = dict()\n",
    "print(\"a is: \\n{}\\n\".format(a))\n",
    "\n",
    "a = {}\n",
    "print(\"a is: \\n{}\\n\".format(type(a)))\n",
    "\n",
    "a = {0: 'something', 1: 'is', 2: 'not', 3:True, 'what?': 'maybe'} \n",
    "print(\"a is: \\n{}\\n\".format(a))\n",
    "\n",
    "a = dict(one=1, two=2, three=3)\n",
    "print(\"a is: \\n{}\\n\".format(a))\n",
    "\n",
    "a = dict(zip(['one', 'two', 'three'], [1, 2, 3]))\n",
    "print(\"a is: \\n{}\\n\".format(a))\n",
    "\n",
    "a = dict([('one', 1), ('two', 2), ('three', 3)])\n",
    "print(\"a is: \\n{}\\n\".format(a))\n",
    "\n",
    "# listing the keys of dictionary\n",
    "print(\"The keys in a are: \\n{}\\n\".format(list(a)))\n",
    "print(\"The keys in a are: \\n{}\\n\".format(a.keys()))\n",
    "\n",
    "# accessing items by key\n",
    "print(\"Item with key 'one' is: \\n{}\\n\".format(a['one']))  # this will raise key error if key is not present\n",
    "print(\"Value with key 'one' is: \\n{}\\n\".format(a.get('on'))) # this will return None if key is not present\n",
    "\n",
    "# you can also give default value to return if key is not found\n",
    "print(\"Value with key 'on' is: \\n{}\\n\".format(a.get('on', \"Key not present\")))\n",
    "\n",
    "# changing value at a key\n",
    "a['one'] = 'one'\n",
    "print(\"dict after being changed: \\n{}\\n\".format(a))\n",
    "\n",
    "# checking if key is there in dict\n",
    "if 'one' in a:\n",
    "    print('\\nyes\\n')\n",
    "    \n",
    "# pop a key and value\n",
    "value = a.pop('two', \"Key not present\")  # if key is not there return default. If default not given raise keyerror\n",
    "print(\"Popped value from dict is: \\n{}\\n\".format(value))\n",
    "print(\"Dict after popping value is: \\n{}\\n\".format(a))\n",
    "\n",
    "# popping last item from dict\n",
    "key_value = a.popitem()  # return a tuple with key and value. if dict is empty raise keyerror\n",
    "print(\"Popped last item is: \\n{}\\n\".format(key_value))"
   ]
  },
  {
   "cell_type": "code",
   "execution_count": null,
   "metadata": {},
   "outputs": [],
   "source": []
  }
 ],
 "metadata": {
  "kernelspec": {
   "display_name": "Python 3 (ipykernel)",
   "language": "python",
   "name": "python3"
  },
  "language_info": {
   "codemirror_mode": {
    "name": "ipython",
    "version": 3
   },
   "file_extension": ".py",
   "mimetype": "text/x-python",
   "name": "python",
   "nbconvert_exporter": "python",
   "pygments_lexer": "ipython3",
   "version": "3.8.10"
  },
  "toc": {
   "base_numbering": 1,
   "nav_menu": {},
   "number_sections": true,
   "sideBar": true,
   "skip_h1_title": false,
   "title_cell": "Table of Contents",
   "title_sidebar": "Contents",
   "toc_cell": false,
   "toc_position": {
    "height": "calc(100% - 180px)",
    "left": "10px",
    "top": "150px",
    "width": "273.188px"
   },
   "toc_section_display": true,
   "toc_window_display": false
  }
 },
 "nbformat": 4,
 "nbformat_minor": 2
}
